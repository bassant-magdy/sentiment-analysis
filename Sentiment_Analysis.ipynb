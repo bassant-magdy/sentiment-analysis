{
 "cells": [
  {
   "cell_type": "markdown",
   "id": "613f88c1",
   "metadata": {},
   "source": [
    "# Sentiment Analysis of text files\n",
    "\n",
    "Dataset consists of text distributed across: \n",
    "- Training set.\n",
    "- Test set.\n",
    "- Validation set.\n",
    "\n",
    "***Columns***\n",
    "\n",
    "| Column Name   | Description |\n",
    "|:---          |    ---:|\n",
    "| textID        | Unique ID for each piece of text       |\n",
    "| text          | Unique        |\n",
    "| selected_text | The text that supports the sentiment (Unique) |\n",
    "|  sentiment    | The general sentiment of the text (Ex : Positive/negative) |\n",
    "|  Mood         | General sentiment of the text (Ex  : Joy, Sad,Happy, Anger) |\n"
   ]
  },
  {
   "cell_type": "code",
   "execution_count": 1,
   "id": "5bdcc332",
   "metadata": {},
   "outputs": [],
   "source": [
    "# Importing ibraries\n",
    "\n",
    "import pandas as pd\n",
    "import numpy as np\n",
    "import re\n",
    "from nltk import word_tokenize\n",
    "from nltk.corpus import stopwords\n",
    "from string import punctuation\n",
    "from nltk.stem import WordNetLemmatizer"
   ]
  },
  {
   "cell_type": "markdown",
   "id": "bde7ae4c",
   "metadata": {},
   "source": [
    "## Loading train, test and validation sets"
   ]
  },
  {
   "cell_type": "code",
   "execution_count": 2,
   "id": "918ecef0",
   "metadata": {},
   "outputs": [],
   "source": [
    "# Load dataset and make 'textID' column\n",
    "\n",
    "df_train = pd.read_csv('train.txt', sep =';' , names= ['text','Mood'])\n",
    "df_test = pd.read_csv('test.txt', sep =';' , names= ['text','Mood'])\n",
    "df_val = pd.read_csv('val.txt', sep =';', names= ['text','Mood'])\n",
    "\n",
    "\n",
    "df_train['textID'] = list(range(0,len(df_train)))\n",
    "df_train.set_index('textID',drop=True,inplace=True)\n",
    "\n",
    "df_test['textID'] = list(range(0,len(df_test)))\n",
    "df_test.set_index('textID',drop=True,inplace=True)\n",
    "\n",
    "df_val['textID'] = list(range(0,len(df_val)))\n",
    "df_val.set_index('textID',drop=True,inplace=True)\n"
   ]
  },
  {
   "cell_type": "code",
   "execution_count": 3,
   "id": "8b4e5f2c",
   "metadata": {},
   "outputs": [
    {
     "name": "stdout",
     "output_type": "stream",
     "text": [
      "Shape of train data (16000, 2)\n",
      "Shape of test data (2000, 2)\n",
      "Shape of validation data (2000, 2)\n"
     ]
    }
   ],
   "source": [
    "# know the shape of each set\n",
    "print('Shape of train data', df_train.shape)\n",
    "print('Shape of test data',df_test.shape)\n",
    "print('Shape of validation data',df_val.shape)"
   ]
  },
  {
   "cell_type": "code",
   "execution_count": 4,
   "id": "b95d6947",
   "metadata": {},
   "outputs": [
    {
     "data": {
      "text/html": [
       "<div>\n",
       "<style scoped>\n",
       "    .dataframe tbody tr th:only-of-type {\n",
       "        vertical-align: middle;\n",
       "    }\n",
       "\n",
       "    .dataframe tbody tr th {\n",
       "        vertical-align: top;\n",
       "    }\n",
       "\n",
       "    .dataframe thead th {\n",
       "        text-align: right;\n",
       "    }\n",
       "</style>\n",
       "<table border=\"1\" class=\"dataframe\">\n",
       "  <thead>\n",
       "    <tr style=\"text-align: right;\">\n",
       "      <th></th>\n",
       "      <th>text</th>\n",
       "      <th>Mood</th>\n",
       "    </tr>\n",
       "    <tr>\n",
       "      <th>textID</th>\n",
       "      <th></th>\n",
       "      <th></th>\n",
       "    </tr>\n",
       "  </thead>\n",
       "  <tbody>\n",
       "    <tr>\n",
       "      <th>0</th>\n",
       "      <td>i didnt feel humiliated</td>\n",
       "      <td>sadness</td>\n",
       "    </tr>\n",
       "    <tr>\n",
       "      <th>1</th>\n",
       "      <td>i can go from feeling so hopeless to so damned...</td>\n",
       "      <td>sadness</td>\n",
       "    </tr>\n",
       "    <tr>\n",
       "      <th>2</th>\n",
       "      <td>im grabbing a minute to post i feel greedy wrong</td>\n",
       "      <td>anger</td>\n",
       "    </tr>\n",
       "    <tr>\n",
       "      <th>3</th>\n",
       "      <td>i am ever feeling nostalgic about the fireplac...</td>\n",
       "      <td>love</td>\n",
       "    </tr>\n",
       "    <tr>\n",
       "      <th>4</th>\n",
       "      <td>i am feeling grouchy</td>\n",
       "      <td>anger</td>\n",
       "    </tr>\n",
       "  </tbody>\n",
       "</table>\n",
       "</div>"
      ],
      "text/plain": [
       "                                                     text     Mood\n",
       "textID                                                            \n",
       "0                                 i didnt feel humiliated  sadness\n",
       "1       i can go from feeling so hopeless to so damned...  sadness\n",
       "2        im grabbing a minute to post i feel greedy wrong    anger\n",
       "3       i am ever feeling nostalgic about the fireplac...     love\n",
       "4                                    i am feeling grouchy    anger"
      ]
     },
     "execution_count": 4,
     "metadata": {},
     "output_type": "execute_result"
    }
   ],
   "source": [
    "# show the top 5 rows in train set\n",
    "df_train.head()"
   ]
  },
  {
   "cell_type": "code",
   "execution_count": 5,
   "id": "00f6d42f",
   "metadata": {},
   "outputs": [
    {
     "data": {
      "text/html": [
       "<div>\n",
       "<style scoped>\n",
       "    .dataframe tbody tr th:only-of-type {\n",
       "        vertical-align: middle;\n",
       "    }\n",
       "\n",
       "    .dataframe tbody tr th {\n",
       "        vertical-align: top;\n",
       "    }\n",
       "\n",
       "    .dataframe thead th {\n",
       "        text-align: right;\n",
       "    }\n",
       "</style>\n",
       "<table border=\"1\" class=\"dataframe\">\n",
       "  <thead>\n",
       "    <tr style=\"text-align: right;\">\n",
       "      <th></th>\n",
       "      <th>text</th>\n",
       "      <th>Mood</th>\n",
       "    </tr>\n",
       "    <tr>\n",
       "      <th>textID</th>\n",
       "      <th></th>\n",
       "      <th></th>\n",
       "    </tr>\n",
       "  </thead>\n",
       "  <tbody>\n",
       "    <tr>\n",
       "      <th>0</th>\n",
       "      <td>im feeling rather rotten so im not very ambiti...</td>\n",
       "      <td>sadness</td>\n",
       "    </tr>\n",
       "    <tr>\n",
       "      <th>1</th>\n",
       "      <td>im updating my blog because i feel shitty</td>\n",
       "      <td>sadness</td>\n",
       "    </tr>\n",
       "    <tr>\n",
       "      <th>2</th>\n",
       "      <td>i never make her separate from me because i do...</td>\n",
       "      <td>sadness</td>\n",
       "    </tr>\n",
       "    <tr>\n",
       "      <th>3</th>\n",
       "      <td>i left with my bouquet of red and yellow tulip...</td>\n",
       "      <td>joy</td>\n",
       "    </tr>\n",
       "    <tr>\n",
       "      <th>4</th>\n",
       "      <td>i was feeling a little vain when i did this one</td>\n",
       "      <td>sadness</td>\n",
       "    </tr>\n",
       "  </tbody>\n",
       "</table>\n",
       "</div>"
      ],
      "text/plain": [
       "                                                     text     Mood\n",
       "textID                                                            \n",
       "0       im feeling rather rotten so im not very ambiti...  sadness\n",
       "1               im updating my blog because i feel shitty  sadness\n",
       "2       i never make her separate from me because i do...  sadness\n",
       "3       i left with my bouquet of red and yellow tulip...      joy\n",
       "4         i was feeling a little vain when i did this one  sadness"
      ]
     },
     "execution_count": 5,
     "metadata": {},
     "output_type": "execute_result"
    }
   ],
   "source": [
    "# show the top 5 rows in test set\n",
    "df_test.head()"
   ]
  },
  {
   "cell_type": "code",
   "execution_count": 6,
   "id": "aedef04c",
   "metadata": {},
   "outputs": [
    {
     "data": {
      "text/html": [
       "<div>\n",
       "<style scoped>\n",
       "    .dataframe tbody tr th:only-of-type {\n",
       "        vertical-align: middle;\n",
       "    }\n",
       "\n",
       "    .dataframe tbody tr th {\n",
       "        vertical-align: top;\n",
       "    }\n",
       "\n",
       "    .dataframe thead th {\n",
       "        text-align: right;\n",
       "    }\n",
       "</style>\n",
       "<table border=\"1\" class=\"dataframe\">\n",
       "  <thead>\n",
       "    <tr style=\"text-align: right;\">\n",
       "      <th></th>\n",
       "      <th>text</th>\n",
       "      <th>Mood</th>\n",
       "    </tr>\n",
       "    <tr>\n",
       "      <th>textID</th>\n",
       "      <th></th>\n",
       "      <th></th>\n",
       "    </tr>\n",
       "  </thead>\n",
       "  <tbody>\n",
       "    <tr>\n",
       "      <th>0</th>\n",
       "      <td>im feeling quite sad and sorry for myself but ...</td>\n",
       "      <td>sadness</td>\n",
       "    </tr>\n",
       "    <tr>\n",
       "      <th>1</th>\n",
       "      <td>i feel like i am still looking at a blank canv...</td>\n",
       "      <td>sadness</td>\n",
       "    </tr>\n",
       "    <tr>\n",
       "      <th>2</th>\n",
       "      <td>i feel like a faithful servant</td>\n",
       "      <td>love</td>\n",
       "    </tr>\n",
       "    <tr>\n",
       "      <th>3</th>\n",
       "      <td>i am just feeling cranky and blue</td>\n",
       "      <td>anger</td>\n",
       "    </tr>\n",
       "    <tr>\n",
       "      <th>4</th>\n",
       "      <td>i can have for a treat or if i am feeling festive</td>\n",
       "      <td>joy</td>\n",
       "    </tr>\n",
       "  </tbody>\n",
       "</table>\n",
       "</div>"
      ],
      "text/plain": [
       "                                                     text     Mood\n",
       "textID                                                            \n",
       "0       im feeling quite sad and sorry for myself but ...  sadness\n",
       "1       i feel like i am still looking at a blank canv...  sadness\n",
       "2                          i feel like a faithful servant     love\n",
       "3                       i am just feeling cranky and blue    anger\n",
       "4       i can have for a treat or if i am feeling festive      joy"
      ]
     },
     "execution_count": 6,
     "metadata": {},
     "output_type": "execute_result"
    }
   ],
   "source": [
    "# show the top 5 rows in validation set\n",
    "df_val.head()"
   ]
  },
  {
   "cell_type": "code",
   "execution_count": 7,
   "id": "6aafe40a",
   "metadata": {},
   "outputs": [
    {
     "name": "stdout",
     "output_type": "stream",
     "text": [
      "Mood count in train : \n",
      " joy         5362\n",
      "sadness     4666\n",
      "anger       2159\n",
      "fear        1937\n",
      "love        1304\n",
      "surprise     572\n",
      "Name: Mood, dtype: int64\n",
      "\n",
      "Mood count in test : \n",
      " joy         695\n",
      "sadness     581\n",
      "anger       275\n",
      "fear        224\n",
      "love        159\n",
      "surprise     66\n",
      "Name: Mood, dtype: int64\n",
      "\n",
      "Mood count in validation : \n",
      " joy         704\n",
      "sadness     550\n",
      "anger       275\n",
      "fear        212\n",
      "love        178\n",
      "surprise     81\n",
      "Name: Mood, dtype: int64\n"
     ]
    }
   ],
   "source": [
    "# show the counts of each mood in each set\n",
    "print('Mood count in train :', '\\n', df_train['Mood'].value_counts())\n",
    "print('\\nMood count in test :','\\n', df_test['Mood'].value_counts())\n",
    "print('\\nMood count in validation :','\\n', df_val['Mood'].value_counts())"
   ]
  },
  {
   "cell_type": "markdown",
   "id": "44ed040d",
   "metadata": {},
   "source": [
    "**There are 6 moods, So we can consider that:**\n",
    "> - joy, love, surprise &rarr; **Positive Sentiment**\n",
    "> - fear, anger, sadness &rarr; **Negative Sentiment** "
   ]
  },
  {
   "cell_type": "code",
   "execution_count": 8,
   "id": "d7a8f66e",
   "metadata": {},
   "outputs": [],
   "source": [
    "# sentiment col --> positive or negative\n",
    "df_train['sentiment'] = df_train['Mood'].map({'sadness':'N','anger':'N','love':'P','surprise':'P','fear':'N','joy':'P'})\n",
    "\n",
    "df_test['sentiment'] = df_test['Mood'].map({'sadness':'N','anger':'N','love':'P','surprise':'P','fear':'N','joy':'P'})\n",
    "\n",
    "df_val['sentiment'] = df_val['Mood'].map({'sadness':'N','anger':'N','love':'P','surprise':'P', 'fear':'N','joy':'P'})"
   ]
  },
  {
   "cell_type": "code",
   "execution_count": 9,
   "id": "b16b357e",
   "metadata": {
    "scrolled": true
   },
   "outputs": [
    {
     "name": "stderr",
     "output_type": "stream",
     "text": [
      "[nltk_data] Downloading package vader_lexicon to C:\\Users\\Bassant\n",
      "[nltk_data]     Magdy\\AppData\\Roaming\\nltk_data...\n",
      "[nltk_data]   Package vader_lexicon is already up-to-date!\n",
      "[nltk_data] Downloading package punkt to C:\\Users\\Bassant\n",
      "[nltk_data]     Magdy\\AppData\\Roaming\\nltk_data...\n",
      "[nltk_data]   Package punkt is already up-to-date!\n",
      "[nltk_data] Downloading package stopwords to C:\\Users\\Bassant\n",
      "[nltk_data]     Magdy\\AppData\\Roaming\\nltk_data...\n",
      "[nltk_data]   Package stopwords is already up-to-date!\n",
      "[nltk_data] Downloading package wordnet to C:\\Users\\Bassant\n",
      "[nltk_data]     Magdy\\AppData\\Roaming\\nltk_data...\n",
      "[nltk_data]   Package wordnet is already up-to-date!\n"
     ]
    },
    {
     "data": {
      "text/plain": [
       "True"
      ]
     },
     "execution_count": 9,
     "metadata": {},
     "output_type": "execute_result"
    }
   ],
   "source": [
    "import nltk\n",
    "nltk.download('vader_lexicon')\n",
    "nltk.download('punkt')\n",
    "nltk.download('stopwords')\n",
    "nltk.download('wordnet')"
   ]
  },
  {
   "cell_type": "markdown",
   "id": "cf89294b",
   "metadata": {},
   "source": [
    "### Another shape for dataset: "
   ]
  },
  {
   "cell_type": "code",
   "execution_count": 10,
   "id": "14c89707",
   "metadata": {},
   "outputs": [
    {
     "data": {
      "text/html": [
       "<div>\n",
       "<style scoped>\n",
       "    .dataframe tbody tr th:only-of-type {\n",
       "        vertical-align: middle;\n",
       "    }\n",
       "\n",
       "    .dataframe tbody tr th {\n",
       "        vertical-align: top;\n",
       "    }\n",
       "\n",
       "    .dataframe thead th {\n",
       "        text-align: right;\n",
       "    }\n",
       "</style>\n",
       "<table border=\"1\" class=\"dataframe\">\n",
       "  <thead>\n",
       "    <tr style=\"text-align: right;\">\n",
       "      <th></th>\n",
       "      <th>text</th>\n",
       "      <th>Mood</th>\n",
       "      <th>sentiment</th>\n",
       "      <th>Positive Sentiment</th>\n",
       "      <th>Neutral Sentiment</th>\n",
       "      <th>Negative Sentiment</th>\n",
       "    </tr>\n",
       "    <tr>\n",
       "      <th>textID</th>\n",
       "      <th></th>\n",
       "      <th></th>\n",
       "      <th></th>\n",
       "      <th></th>\n",
       "      <th></th>\n",
       "      <th></th>\n",
       "    </tr>\n",
       "  </thead>\n",
       "  <tbody>\n",
       "    <tr>\n",
       "      <th>0</th>\n",
       "      <td>i didnt feel humiliated</td>\n",
       "      <td>sadness</td>\n",
       "      <td>N</td>\n",
       "      <td>0.504</td>\n",
       "      <td>0.496</td>\n",
       "      <td>0.000</td>\n",
       "    </tr>\n",
       "    <tr>\n",
       "      <th>1</th>\n",
       "      <td>i can go from feeling so hopeless to so damned...</td>\n",
       "      <td>sadness</td>\n",
       "      <td>N</td>\n",
       "      <td>0.271</td>\n",
       "      <td>0.503</td>\n",
       "      <td>0.227</td>\n",
       "    </tr>\n",
       "    <tr>\n",
       "      <th>2</th>\n",
       "      <td>im grabbing a minute to post i feel greedy wrong</td>\n",
       "      <td>anger</td>\n",
       "      <td>N</td>\n",
       "      <td>0.000</td>\n",
       "      <td>0.526</td>\n",
       "      <td>0.474</td>\n",
       "    </tr>\n",
       "    <tr>\n",
       "      <th>3</th>\n",
       "      <td>i am ever feeling nostalgic about the fireplac...</td>\n",
       "      <td>love</td>\n",
       "      <td>P</td>\n",
       "      <td>0.091</td>\n",
       "      <td>0.909</td>\n",
       "      <td>0.000</td>\n",
       "    </tr>\n",
       "    <tr>\n",
       "      <th>4</th>\n",
       "      <td>i am feeling grouchy</td>\n",
       "      <td>anger</td>\n",
       "      <td>N</td>\n",
       "      <td>0.278</td>\n",
       "      <td>0.185</td>\n",
       "      <td>0.537</td>\n",
       "    </tr>\n",
       "  </tbody>\n",
       "</table>\n",
       "</div>"
      ],
      "text/plain": [
       "                                                     text     Mood sentiment  \\\n",
       "textID                                                                         \n",
       "0                                 i didnt feel humiliated  sadness         N   \n",
       "1       i can go from feeling so hopeless to so damned...  sadness         N   \n",
       "2        im grabbing a minute to post i feel greedy wrong    anger         N   \n",
       "3       i am ever feeling nostalgic about the fireplac...     love         P   \n",
       "4                                    i am feeling grouchy    anger         N   \n",
       "\n",
       "        Positive Sentiment  Neutral Sentiment  Negative Sentiment  \n",
       "textID                                                             \n",
       "0                    0.504              0.496               0.000  \n",
       "1                    0.271              0.503               0.227  \n",
       "2                    0.000              0.526               0.474  \n",
       "3                    0.091              0.909               0.000  \n",
       "4                    0.278              0.185               0.537  "
      ]
     },
     "execution_count": 10,
     "metadata": {},
     "output_type": "execute_result"
    }
   ],
   "source": [
    "from nltk.sentiment.vader import SentimentIntensityAnalyzer\n",
    "\n",
    "sid = SentimentIntensityAnalyzer()\n",
    "\n",
    "c_train = df_train.copy()\n",
    "c_test = df_test.copy()\n",
    "c_val = df_val.copy()\n",
    "\n",
    "c_train['Sentiments'] = c_train['text'].apply(lambda x: sid.polarity_scores(x))\n",
    "c_train['Positive Sentiment'] = c_train['Sentiments'].apply(lambda x: x['pos']) \n",
    "c_train['Neutral Sentiment'] = c_train['Sentiments'].apply(lambda x: x['neu'])\n",
    "c_train['Negative Sentiment'] = c_train['Sentiments'].apply(lambda x: x['neg'])\n",
    "c_train.drop(columns=['Sentiments'],inplace=True)\n",
    "\n",
    "\n",
    "c_test['Sentiments'] = c_test['text'].apply(lambda x: sid.polarity_scores(x))\n",
    "c_test['Positive Sentiment'] = c_test['Sentiments'].apply(lambda x: x['pos']) \n",
    "c_test['Neutral Sentiment'] = c_test['Sentiments'].apply(lambda x: x['neu'])\n",
    "c_test['Negative Sentiment'] = c_test['Sentiments'].apply(lambda x: x['neg'])\n",
    "c_test.drop(columns=['Sentiments'],inplace=True)\n",
    "\n",
    "\n",
    "c_val['Sentiments'] = c_val['text'].apply(lambda x: sid.polarity_scores(x))\n",
    "c_val['Positive Sentiment'] = c_val['Sentiments'].apply(lambda x: x['pos']) \n",
    "c_val['Neutral Sentiment'] = c_val['Sentiments'].apply(lambda x: x['neu'])\n",
    "c_val['Negative Sentiment'] = c_val['Sentiments'].apply(lambda x: x['neg'])\n",
    "c_val.drop(columns=['Sentiments'],inplace=True)\n",
    "\n",
    "c_train.head()"
   ]
  },
  {
   "cell_type": "markdown",
   "id": "07e5990e",
   "metadata": {},
   "source": [
    "## Preparing the text to Analysis"
   ]
  },
  {
   "cell_type": "code",
   "execution_count": 11,
   "id": "3462038e",
   "metadata": {},
   "outputs": [],
   "source": [
    "# Tokenize text\n",
    "tr_tokens = [word_tokenize(sent) for sent in df_train.text]\n",
    "te_tokens = [word_tokenize(sent) for sent in df_test.text]\n",
    "val_tokens = [word_tokenize(sent) for sent in df_val.text]\n",
    "\n",
    "# Normalize text which will make all words in lowercase\n",
    "norm_train = []\n",
    "for sent in tr_tokens:\n",
    "  norm_train.append([word.lower() for word in sent])\n",
    "\n",
    "norm_test = []\n",
    "for sent in te_tokens:\n",
    "  norm_test.append([word.lower() for word in sent])\n",
    "\n",
    "norm_val = []\n",
    "for sent in val_tokens:\n",
    "  norm_val.append([word.lower() for word in sent])\n",
    "\n",
    "# Remove stopwords like-> 'i, me, your' and punctuation marks '!\"#$%&\\'()*+,-./:;<=>?@[\\\\]^_`{|}~'\n",
    "stop_words = stopwords.words('english') + list(punctuation)\n",
    "\n",
    "nostop_words_train = []\n",
    "for sent in norm_train:\n",
    "  nostop_words_train.append([word for word in sent if word not in stop_words])\n",
    "\n",
    "nostop_words_test = []\n",
    "for sent in norm_test:\n",
    "  nostop_words_test.append([word for word in sent if word not in stop_words])\n",
    "\n",
    "nostop_words_val = []\n",
    "for sent in norm_val:\n",
    "  nostop_words_val.append([word for word in sent if word not in stop_words])\n",
    "\n",
    "# Remove everything except alphabets to make sure that the text is ready\n",
    "sp_train = []\n",
    "for sent in nostop_words_train:\n",
    "  sp_train.append([(re.sub('[^a-zA-Z]',' ', word)) for word in sent])\n",
    "\n",
    "sp_test = []\n",
    "for sent in nostop_words_test:\n",
    "  sp_test.append([(re.sub('[^a-zA-Z]',' ', word)) for word in sent])\n",
    "\n",
    "sp_val = []\n",
    "for sent in nostop_words_val:\n",
    "  sp_val.append([(re.sub('[^a-zA-Z]',' ', word)) for word in sent])\n",
    "\n",
    "\n",
    "# Lemmatize text\n",
    "l = WordNetLemmatizer()\n",
    "\n",
    "Lemmatized_train = []\n",
    "for sent in sp_train:\n",
    "    Lemmatized_train.append([l.lemmatize(word) for word in sent])\n",
    "\n",
    "Lemmatized_test = []\n",
    "for sent in sp_test:\n",
    "    Lemmatized_test.append([l.lemmatize(word) for word in sent])\n",
    "\n",
    "Lemmatized_val = []\n",
    "for sent in sp_val:\n",
    "    Lemmatized_val.append([l.lemmatize(word) for word in sent])\n",
    "    \n",
    "    \n",
    "train_txt = [\" \".join(token) for token in Lemmatized_train]\n",
    "\n",
    "test_txt = [\" \".join(token) for token in Lemmatized_test]\n",
    "\n",
    "val_txt = [\" \".join(token) for token in Lemmatized_val]"
   ]
  },
  {
   "cell_type": "markdown",
   "id": "ed243d7d",
   "metadata": {},
   "source": [
    "## The required train, test and val dataset:"
   ]
  },
  {
   "cell_type": "code",
   "execution_count": 12,
   "id": "0cbef5a7",
   "metadata": {},
   "outputs": [],
   "source": [
    "# Assign the whole changes in 'text' column in 'selected_text' column\n",
    "df_train['selected_text'] = pd.Series(train_txt)\n",
    "df_test['selected_text'] = pd.Series(test_txt)\n",
    "df_val['selected_text'] = pd.Series(val_txt)\n",
    "\n",
    "# Rearrange the columns in each set according to the wanted dataset\n",
    "df_train = df_train.reindex(columns=['text','selected_text','sentiment','Mood'])\n",
    "df_test = df_test.reindex(columns=['text','selected_text','sentiment','Mood'])\n",
    "df_val = df_val.reindex(columns=['text','selected_text','sentiment','Mood'])"
   ]
  },
  {
   "cell_type": "code",
   "execution_count": 13,
   "id": "e59cbe20",
   "metadata": {},
   "outputs": [
    {
     "data": {
      "text/html": [
       "<div>\n",
       "<style scoped>\n",
       "    .dataframe tbody tr th:only-of-type {\n",
       "        vertical-align: middle;\n",
       "    }\n",
       "\n",
       "    .dataframe tbody tr th {\n",
       "        vertical-align: top;\n",
       "    }\n",
       "\n",
       "    .dataframe thead th {\n",
       "        text-align: right;\n",
       "    }\n",
       "</style>\n",
       "<table border=\"1\" class=\"dataframe\">\n",
       "  <thead>\n",
       "    <tr style=\"text-align: right;\">\n",
       "      <th></th>\n",
       "      <th>text</th>\n",
       "      <th>selected_text</th>\n",
       "      <th>sentiment</th>\n",
       "      <th>Mood</th>\n",
       "    </tr>\n",
       "    <tr>\n",
       "      <th>textID</th>\n",
       "      <th></th>\n",
       "      <th></th>\n",
       "      <th></th>\n",
       "      <th></th>\n",
       "    </tr>\n",
       "  </thead>\n",
       "  <tbody>\n",
       "    <tr>\n",
       "      <th>0</th>\n",
       "      <td>i didnt feel humiliated</td>\n",
       "      <td>didnt feel humiliated</td>\n",
       "      <td>N</td>\n",
       "      <td>sadness</td>\n",
       "    </tr>\n",
       "    <tr>\n",
       "      <th>1</th>\n",
       "      <td>i can go from feeling so hopeless to so damned...</td>\n",
       "      <td>go feeling hopeless damned hopeful around some...</td>\n",
       "      <td>N</td>\n",
       "      <td>sadness</td>\n",
       "    </tr>\n",
       "    <tr>\n",
       "      <th>2</th>\n",
       "      <td>im grabbing a minute to post i feel greedy wrong</td>\n",
       "      <td>im grabbing minute post feel greedy wrong</td>\n",
       "      <td>N</td>\n",
       "      <td>anger</td>\n",
       "    </tr>\n",
       "    <tr>\n",
       "      <th>3</th>\n",
       "      <td>i am ever feeling nostalgic about the fireplac...</td>\n",
       "      <td>ever feeling nostalgic fireplace know still pr...</td>\n",
       "      <td>P</td>\n",
       "      <td>love</td>\n",
       "    </tr>\n",
       "    <tr>\n",
       "      <th>4</th>\n",
       "      <td>i am feeling grouchy</td>\n",
       "      <td>feeling grouchy</td>\n",
       "      <td>N</td>\n",
       "      <td>anger</td>\n",
       "    </tr>\n",
       "  </tbody>\n",
       "</table>\n",
       "</div>"
      ],
      "text/plain": [
       "                                                     text  \\\n",
       "textID                                                      \n",
       "0                                 i didnt feel humiliated   \n",
       "1       i can go from feeling so hopeless to so damned...   \n",
       "2        im grabbing a minute to post i feel greedy wrong   \n",
       "3       i am ever feeling nostalgic about the fireplac...   \n",
       "4                                    i am feeling grouchy   \n",
       "\n",
       "                                            selected_text sentiment     Mood  \n",
       "textID                                                                        \n",
       "0                                   didnt feel humiliated         N  sadness  \n",
       "1       go feeling hopeless damned hopeful around some...         N  sadness  \n",
       "2               im grabbing minute post feel greedy wrong         N    anger  \n",
       "3       ever feeling nostalgic fireplace know still pr...         P     love  \n",
       "4                                         feeling grouchy         N    anger  "
      ]
     },
     "execution_count": 13,
     "metadata": {},
     "output_type": "execute_result"
    }
   ],
   "source": [
    "df_train.head()"
   ]
  },
  {
   "cell_type": "code",
   "execution_count": 14,
   "id": "39ea4b5e",
   "metadata": {},
   "outputs": [
    {
     "data": {
      "text/html": [
       "<div>\n",
       "<style scoped>\n",
       "    .dataframe tbody tr th:only-of-type {\n",
       "        vertical-align: middle;\n",
       "    }\n",
       "\n",
       "    .dataframe tbody tr th {\n",
       "        vertical-align: top;\n",
       "    }\n",
       "\n",
       "    .dataframe thead th {\n",
       "        text-align: right;\n",
       "    }\n",
       "</style>\n",
       "<table border=\"1\" class=\"dataframe\">\n",
       "  <thead>\n",
       "    <tr style=\"text-align: right;\">\n",
       "      <th></th>\n",
       "      <th>text</th>\n",
       "      <th>selected_text</th>\n",
       "      <th>sentiment</th>\n",
       "      <th>Mood</th>\n",
       "    </tr>\n",
       "    <tr>\n",
       "      <th>textID</th>\n",
       "      <th></th>\n",
       "      <th></th>\n",
       "      <th></th>\n",
       "      <th></th>\n",
       "    </tr>\n",
       "  </thead>\n",
       "  <tbody>\n",
       "    <tr>\n",
       "      <th>0</th>\n",
       "      <td>im feeling rather rotten so im not very ambiti...</td>\n",
       "      <td>im feeling rather rotten im ambitious right</td>\n",
       "      <td>N</td>\n",
       "      <td>sadness</td>\n",
       "    </tr>\n",
       "    <tr>\n",
       "      <th>1</th>\n",
       "      <td>im updating my blog because i feel shitty</td>\n",
       "      <td>im updating blog feel shitty</td>\n",
       "      <td>N</td>\n",
       "      <td>sadness</td>\n",
       "    </tr>\n",
       "    <tr>\n",
       "      <th>2</th>\n",
       "      <td>i never make her separate from me because i do...</td>\n",
       "      <td>never make separate ever want feel like ashamed</td>\n",
       "      <td>N</td>\n",
       "      <td>sadness</td>\n",
       "    </tr>\n",
       "    <tr>\n",
       "      <th>3</th>\n",
       "      <td>i left with my bouquet of red and yellow tulip...</td>\n",
       "      <td>left bouquet red yellow tulip arm feeling slig...</td>\n",
       "      <td>P</td>\n",
       "      <td>joy</td>\n",
       "    </tr>\n",
       "    <tr>\n",
       "      <th>4</th>\n",
       "      <td>i was feeling a little vain when i did this one</td>\n",
       "      <td>feeling little vain one</td>\n",
       "      <td>N</td>\n",
       "      <td>sadness</td>\n",
       "    </tr>\n",
       "  </tbody>\n",
       "</table>\n",
       "</div>"
      ],
      "text/plain": [
       "                                                     text  \\\n",
       "textID                                                      \n",
       "0       im feeling rather rotten so im not very ambiti...   \n",
       "1               im updating my blog because i feel shitty   \n",
       "2       i never make her separate from me because i do...   \n",
       "3       i left with my bouquet of red and yellow tulip...   \n",
       "4         i was feeling a little vain when i did this one   \n",
       "\n",
       "                                            selected_text sentiment     Mood  \n",
       "textID                                                                        \n",
       "0             im feeling rather rotten im ambitious right         N  sadness  \n",
       "1                            im updating blog feel shitty         N  sadness  \n",
       "2         never make separate ever want feel like ashamed         N  sadness  \n",
       "3       left bouquet red yellow tulip arm feeling slig...         P      joy  \n",
       "4                                 feeling little vain one         N  sadness  "
      ]
     },
     "execution_count": 14,
     "metadata": {},
     "output_type": "execute_result"
    }
   ],
   "source": [
    "df_test.head()"
   ]
  },
  {
   "cell_type": "code",
   "execution_count": 15,
   "id": "219bd982",
   "metadata": {},
   "outputs": [
    {
     "data": {
      "text/html": [
       "<div>\n",
       "<style scoped>\n",
       "    .dataframe tbody tr th:only-of-type {\n",
       "        vertical-align: middle;\n",
       "    }\n",
       "\n",
       "    .dataframe tbody tr th {\n",
       "        vertical-align: top;\n",
       "    }\n",
       "\n",
       "    .dataframe thead th {\n",
       "        text-align: right;\n",
       "    }\n",
       "</style>\n",
       "<table border=\"1\" class=\"dataframe\">\n",
       "  <thead>\n",
       "    <tr style=\"text-align: right;\">\n",
       "      <th></th>\n",
       "      <th>text</th>\n",
       "      <th>selected_text</th>\n",
       "      <th>sentiment</th>\n",
       "      <th>Mood</th>\n",
       "    </tr>\n",
       "    <tr>\n",
       "      <th>textID</th>\n",
       "      <th></th>\n",
       "      <th></th>\n",
       "      <th></th>\n",
       "      <th></th>\n",
       "    </tr>\n",
       "  </thead>\n",
       "  <tbody>\n",
       "    <tr>\n",
       "      <th>0</th>\n",
       "      <td>im feeling quite sad and sorry for myself but ...</td>\n",
       "      <td>im feeling quite sad sorry ill snap soon</td>\n",
       "      <td>N</td>\n",
       "      <td>sadness</td>\n",
       "    </tr>\n",
       "    <tr>\n",
       "      <th>1</th>\n",
       "      <td>i feel like i am still looking at a blank canv...</td>\n",
       "      <td>feel like still looking blank canvas blank pie...</td>\n",
       "      <td>N</td>\n",
       "      <td>sadness</td>\n",
       "    </tr>\n",
       "    <tr>\n",
       "      <th>2</th>\n",
       "      <td>i feel like a faithful servant</td>\n",
       "      <td>feel like faithful servant</td>\n",
       "      <td>P</td>\n",
       "      <td>love</td>\n",
       "    </tr>\n",
       "    <tr>\n",
       "      <th>3</th>\n",
       "      <td>i am just feeling cranky and blue</td>\n",
       "      <td>feeling cranky blue</td>\n",
       "      <td>N</td>\n",
       "      <td>anger</td>\n",
       "    </tr>\n",
       "    <tr>\n",
       "      <th>4</th>\n",
       "      <td>i can have for a treat or if i am feeling festive</td>\n",
       "      <td>treat feeling festive</td>\n",
       "      <td>P</td>\n",
       "      <td>joy</td>\n",
       "    </tr>\n",
       "  </tbody>\n",
       "</table>\n",
       "</div>"
      ],
      "text/plain": [
       "                                                     text  \\\n",
       "textID                                                      \n",
       "0       im feeling quite sad and sorry for myself but ...   \n",
       "1       i feel like i am still looking at a blank canv...   \n",
       "2                          i feel like a faithful servant   \n",
       "3                       i am just feeling cranky and blue   \n",
       "4       i can have for a treat or if i am feeling festive   \n",
       "\n",
       "                                            selected_text sentiment     Mood  \n",
       "textID                                                                        \n",
       "0                im feeling quite sad sorry ill snap soon         N  sadness  \n",
       "1       feel like still looking blank canvas blank pie...         N  sadness  \n",
       "2                              feel like faithful servant         P     love  \n",
       "3                                     feeling cranky blue         N    anger  \n",
       "4                                   treat feeling festive         P      joy  "
      ]
     },
     "execution_count": 15,
     "metadata": {},
     "output_type": "execute_result"
    }
   ],
   "source": [
    "df_val.head()"
   ]
  },
  {
   "cell_type": "markdown",
   "id": "2e129a65",
   "metadata": {},
   "source": [
    "## Save the required datasets as csv files"
   ]
  },
  {
   "cell_type": "code",
   "execution_count": 16,
   "id": "a4d20b73",
   "metadata": {},
   "outputs": [],
   "source": [
    "df_train.to_csv('train.csv')\n",
    "df_test.to_csv('test.csv')\n",
    "df_val.to_csv('val.csv')"
   ]
  },
  {
   "cell_type": "markdown",
   "id": "cb4ada07",
   "metadata": {},
   "source": [
    "## Concatenate the train and validation sets into one set"
   ]
  },
  {
   "cell_type": "code",
   "execution_count": 17,
   "id": "496623fe",
   "metadata": {},
   "outputs": [
    {
     "data": {
      "text/html": [
       "<div>\n",
       "<style scoped>\n",
       "    .dataframe tbody tr th:only-of-type {\n",
       "        vertical-align: middle;\n",
       "    }\n",
       "\n",
       "    .dataframe tbody tr th {\n",
       "        vertical-align: top;\n",
       "    }\n",
       "\n",
       "    .dataframe thead th {\n",
       "        text-align: right;\n",
       "    }\n",
       "</style>\n",
       "<table border=\"1\" class=\"dataframe\">\n",
       "  <thead>\n",
       "    <tr style=\"text-align: right;\">\n",
       "      <th></th>\n",
       "      <th>text</th>\n",
       "      <th>selected_text</th>\n",
       "      <th>sentiment</th>\n",
       "      <th>Mood</th>\n",
       "    </tr>\n",
       "  </thead>\n",
       "  <tbody>\n",
       "    <tr>\n",
       "      <th>0</th>\n",
       "      <td>i didnt feel humiliated</td>\n",
       "      <td>didnt feel humiliated</td>\n",
       "      <td>N</td>\n",
       "      <td>sadness</td>\n",
       "    </tr>\n",
       "    <tr>\n",
       "      <th>1</th>\n",
       "      <td>i can go from feeling so hopeless to so damned...</td>\n",
       "      <td>go feeling hopeless damned hopeful around some...</td>\n",
       "      <td>N</td>\n",
       "      <td>sadness</td>\n",
       "    </tr>\n",
       "    <tr>\n",
       "      <th>2</th>\n",
       "      <td>im grabbing a minute to post i feel greedy wrong</td>\n",
       "      <td>im grabbing minute post feel greedy wrong</td>\n",
       "      <td>N</td>\n",
       "      <td>anger</td>\n",
       "    </tr>\n",
       "    <tr>\n",
       "      <th>3</th>\n",
       "      <td>i am ever feeling nostalgic about the fireplac...</td>\n",
       "      <td>ever feeling nostalgic fireplace know still pr...</td>\n",
       "      <td>P</td>\n",
       "      <td>love</td>\n",
       "    </tr>\n",
       "    <tr>\n",
       "      <th>4</th>\n",
       "      <td>i am feeling grouchy</td>\n",
       "      <td>feeling grouchy</td>\n",
       "      <td>N</td>\n",
       "      <td>anger</td>\n",
       "    </tr>\n",
       "    <tr>\n",
       "      <th>5</th>\n",
       "      <td>ive been feeling a little burdened lately wasn...</td>\n",
       "      <td>ive feeling little burdened lately wasnt sure</td>\n",
       "      <td>N</td>\n",
       "      <td>sadness</td>\n",
       "    </tr>\n",
       "    <tr>\n",
       "      <th>6</th>\n",
       "      <td>ive been taking or milligrams or times recomme...</td>\n",
       "      <td>ive taking milligram time recommended amount i...</td>\n",
       "      <td>P</td>\n",
       "      <td>surprise</td>\n",
       "    </tr>\n",
       "    <tr>\n",
       "      <th>7</th>\n",
       "      <td>i feel as confused about life as a teenager or...</td>\n",
       "      <td>feel confused life teenager jaded year old man</td>\n",
       "      <td>N</td>\n",
       "      <td>fear</td>\n",
       "    </tr>\n",
       "    <tr>\n",
       "      <th>8</th>\n",
       "      <td>i have been with petronas for years i feel tha...</td>\n",
       "      <td>petronas year feel petronas performed well mad...</td>\n",
       "      <td>P</td>\n",
       "      <td>joy</td>\n",
       "    </tr>\n",
       "    <tr>\n",
       "      <th>9</th>\n",
       "      <td>i feel romantic too</td>\n",
       "      <td>feel romantic</td>\n",
       "      <td>P</td>\n",
       "      <td>love</td>\n",
       "    </tr>\n",
       "  </tbody>\n",
       "</table>\n",
       "</div>"
      ],
      "text/plain": [
       "                                                text  \\\n",
       "0                            i didnt feel humiliated   \n",
       "1  i can go from feeling so hopeless to so damned...   \n",
       "2   im grabbing a minute to post i feel greedy wrong   \n",
       "3  i am ever feeling nostalgic about the fireplac...   \n",
       "4                               i am feeling grouchy   \n",
       "5  ive been feeling a little burdened lately wasn...   \n",
       "6  ive been taking or milligrams or times recomme...   \n",
       "7  i feel as confused about life as a teenager or...   \n",
       "8  i have been with petronas for years i feel tha...   \n",
       "9                                i feel romantic too   \n",
       "\n",
       "                                       selected_text sentiment      Mood  \n",
       "0                              didnt feel humiliated         N   sadness  \n",
       "1  go feeling hopeless damned hopeful around some...         N   sadness  \n",
       "2          im grabbing minute post feel greedy wrong         N     anger  \n",
       "3  ever feeling nostalgic fireplace know still pr...         P      love  \n",
       "4                                    feeling grouchy         N     anger  \n",
       "5      ive feeling little burdened lately wasnt sure         N   sadness  \n",
       "6  ive taking milligram time recommended amount i...         P  surprise  \n",
       "7     feel confused life teenager jaded year old man         N      fear  \n",
       "8  petronas year feel petronas performed well mad...         P       joy  \n",
       "9                                      feel romantic         P      love  "
      ]
     },
     "execution_count": 17,
     "metadata": {},
     "output_type": "execute_result"
    }
   ],
   "source": [
    "# Concatenate the train and validation sets into one set \n",
    "training = pd.concat([df_train, df_val], axis=0)\n",
    "\n",
    "# Reset the index of the DataFrame, and use the default one instead\n",
    "training.reset_index(inplace=True)\n",
    "\n",
    "# Drop 'textID'\n",
    "training.drop('textID', axis=1, inplace=True)\n",
    "\n",
    "training.head(10)"
   ]
  },
  {
   "cell_type": "code",
   "execution_count": 18,
   "id": "10b8995e",
   "metadata": {},
   "outputs": [],
   "source": [
    "# Split data into independent and dependent variable x,y\n",
    "\n",
    "Xtrain = training['selected_text']\n",
    "\n",
    "# Convert P to 1 and N to 0\n",
    "Y_train = training['sentiment'].map({'P':1,'N':0})\n",
    "\n",
    "# Do the same to test data\n",
    "Xtest = df_test['selected_text']\n",
    "Y_test = df_test['sentiment'].map({'P':1,'N':0})"
   ]
  },
  {
   "cell_type": "code",
   "execution_count": 19,
   "id": "c27bd2de",
   "metadata": {},
   "outputs": [
    {
     "data": {
      "text/plain": [
       "0                                didnt feel humiliated\n",
       "1    go feeling hopeless damned hopeful around some...\n",
       "2            im grabbing minute post feel greedy wrong\n",
       "3    ever feeling nostalgic fireplace know still pr...\n",
       "4                                      feeling grouchy\n",
       "Name: selected_text, dtype: object"
      ]
     },
     "execution_count": 19,
     "metadata": {},
     "output_type": "execute_result"
    }
   ],
   "source": [
    "Xtrain.head()"
   ]
  },
  {
   "cell_type": "code",
   "execution_count": 20,
   "id": "4e5ed654",
   "metadata": {},
   "outputs": [
    {
     "data": {
      "text/plain": [
       "0    0\n",
       "1    0\n",
       "2    0\n",
       "3    1\n",
       "4    0\n",
       "Name: sentiment, dtype: int64"
      ]
     },
     "execution_count": 20,
     "metadata": {},
     "output_type": "execute_result"
    }
   ],
   "source": [
    "Y_train.head()"
   ]
  },
  {
   "cell_type": "code",
   "execution_count": 21,
   "id": "a61fb998",
   "metadata": {},
   "outputs": [],
   "source": [
    "from sklearn.feature_extraction.text import TfidfVectorizer\n",
    "\n",
    "# Convert a collection of raw documents to a matrix of TF-IDF features\n",
    "vectorizer = TfidfVectorizer()\n",
    "X_train = vectorizer.fit_transform(Xtrain)\n",
    "X_test = vectorizer.transform(Xtest)"
   ]
  },
  {
   "cell_type": "code",
   "execution_count": 22,
   "id": "e33e4caf",
   "metadata": {},
   "outputs": [
    {
     "name": "stdout",
     "output_type": "stream",
     "text": [
      "(18000, 14293)\n",
      "(2000, 14293)\n"
     ]
    }
   ],
   "source": [
    "print(X_train.shape)\n",
    "print(X_test.shape)"
   ]
  },
  {
   "cell_type": "markdown",
   "id": "1b865e7a",
   "metadata": {},
   "source": [
    "## Build Model 1:\n",
    "\n",
    "\n",
    "A random forest is a meta estimator that fits a number of decision tree classifiers on various sub-samples of the dataset and uses averaging to improve the predictive accuracy and control over-fitting."
   ]
  },
  {
   "cell_type": "code",
   "execution_count": 23,
   "id": "a8fb0445",
   "metadata": {},
   "outputs": [],
   "source": [
    "from sklearn.ensemble import RandomForestClassifier\n",
    "\n",
    "RF = RandomForestClassifier()\n",
    "RF.fit(X_train, Y_train)\n",
    "Ypred_1 = RF.predict(X_test)"
   ]
  },
  {
   "cell_type": "code",
   "execution_count": 24,
   "id": "4d9e828f",
   "metadata": {},
   "outputs": [
    {
     "data": {
      "text/plain": [
       "array([[1032,   48],\n",
       "       [  41,  879]], dtype=int64)"
      ]
     },
     "execution_count": 24,
     "metadata": {},
     "output_type": "execute_result"
    }
   ],
   "source": [
    "from sklearn.metrics import confusion_matrix\n",
    "\n",
    "confusion_matrix(Y_test, Ypred_1)"
   ]
  },
  {
   "cell_type": "code",
   "execution_count": 25,
   "id": "10d5d40c",
   "metadata": {},
   "outputs": [
    {
     "name": "stdout",
     "output_type": "stream",
     "text": [
      "Accuracy Score is 0.9555\n",
      "F1 Score is 0.9518137520303194\n"
     ]
    }
   ],
   "source": [
    "from sklearn.metrics import f1_score\n",
    "from sklearn.metrics import accuracy_score\n",
    "\n",
    "print(\"Accuracy Score is {}\".format(accuracy_score(Y_test, Ypred_1)))\n",
    "print(\"F1 Score is {}\".format(f1_score(Y_test, Ypred_1)))"
   ]
  },
  {
   "cell_type": "code",
   "execution_count": 26,
   "id": "2188e63c",
   "metadata": {},
   "outputs": [
    {
     "name": "stdout",
     "output_type": "stream",
     "text": [
      "Classification eport: \n",
      "\n",
      "               precision    recall  f1-score   support\n",
      "\n",
      "           0       0.96      0.96      0.96      1080\n",
      "           1       0.95      0.96      0.95       920\n",
      "\n",
      "    accuracy                           0.96      2000\n",
      "   macro avg       0.96      0.96      0.96      2000\n",
      "weighted avg       0.96      0.96      0.96      2000\n",
      "\n"
     ]
    }
   ],
   "source": [
    "from sklearn.metrics import classification_report\n",
    "\n",
    "print(\"Classification eport: \\n\\n {}\".format(classification_report(Y_test, Ypred_1)))"
   ]
  },
  {
   "cell_type": "markdown",
   "id": "299eb0b6",
   "metadata": {},
   "source": [
    "## Build Model 2: \n",
    "\n",
    "C-Support Vector Classification.\n",
    "\n",
    "The implementation is based on libsvm. The fit time scales at least quadratically with the number of samples and may be impractical beyond tens of thousands of samples."
   ]
  },
  {
   "cell_type": "code",
   "execution_count": 27,
   "id": "6982c6a4",
   "metadata": {},
   "outputs": [],
   "source": [
    "from sklearn.svm import SVC\n",
    "\n",
    "svc = SVC(kernel= 'linear')\n",
    "svc.fit(X_train, Y_train)\n",
    "Ypred_2 = svc.predict(X_test)"
   ]
  },
  {
   "cell_type": "code",
   "execution_count": 28,
   "id": "ac74e63d",
   "metadata": {},
   "outputs": [
    {
     "name": "stdout",
     "output_type": "stream",
     "text": [
      "Accuracy Score is 0.9665\n",
      "F1 Score is 0.9636067354698533\n"
     ]
    }
   ],
   "source": [
    "from sklearn.metrics import f1_score\n",
    "from sklearn.metrics import accuracy_score\n",
    "\n",
    "print(\"Accuracy Score is {}\".format(accuracy_score(Y_test, Ypred_2)))\n",
    "print(\"F1 Score is {}\".format(f1_score(Y_test, Ypred_2)))"
   ]
  },
  {
   "cell_type": "code",
   "execution_count": 29,
   "id": "b38db7f8",
   "metadata": {},
   "outputs": [
    {
     "name": "stdout",
     "output_type": "stream",
     "text": [
      "Classification eport: \n",
      "\n",
      "               precision    recall  f1-score   support\n",
      "\n",
      "           0       0.97      0.97      0.97      1080\n",
      "           1       0.96      0.96      0.96       920\n",
      "\n",
      "    accuracy                           0.97      2000\n",
      "   macro avg       0.97      0.97      0.97      2000\n",
      "weighted avg       0.97      0.97      0.97      2000\n",
      "\n"
     ]
    }
   ],
   "source": [
    "from sklearn.metrics import classification_report\n",
    "\n",
    "print(\"Classification eport: \\n\\n {}\".format(classification_report(Y_test, Ypred_2)))"
   ]
  },
  {
   "cell_type": "markdown",
   "id": "e2fb6047",
   "metadata": {},
   "source": [
    "###  So, After we make comparsion between 2 models we will find that Model 2 which is the SVM is the best in Accuracy and F1 Score."
   ]
  },
  {
   "cell_type": "code",
   "execution_count": 30,
   "id": "54195c3b",
   "metadata": {},
   "outputs": [
    {
     "data": {
      "text/plain": [
       "array([0, 0, 0, ..., 1, 1, 0], dtype=int64)"
      ]
     },
     "execution_count": 30,
     "metadata": {},
     "output_type": "execute_result"
    }
   ],
   "source": [
    "# Show the predicted classes\n",
    "Ypred_2"
   ]
  },
  {
   "cell_type": "code",
   "execution_count": 31,
   "id": "a1dbbad2",
   "metadata": {},
   "outputs": [
    {
     "data": {
      "text/html": [
       "<div>\n",
       "<style scoped>\n",
       "    .dataframe tbody tr th:only-of-type {\n",
       "        vertical-align: middle;\n",
       "    }\n",
       "\n",
       "    .dataframe tbody tr th {\n",
       "        vertical-align: top;\n",
       "    }\n",
       "\n",
       "    .dataframe thead th {\n",
       "        text-align: right;\n",
       "    }\n",
       "</style>\n",
       "<table border=\"1\" class=\"dataframe\">\n",
       "  <thead>\n",
       "    <tr style=\"text-align: right;\">\n",
       "      <th></th>\n",
       "      <th>Actual</th>\n",
       "      <th>Predicted</th>\n",
       "    </tr>\n",
       "  </thead>\n",
       "  <tbody>\n",
       "    <tr>\n",
       "      <th>0</th>\n",
       "      <td>0</td>\n",
       "      <td>0</td>\n",
       "    </tr>\n",
       "    <tr>\n",
       "      <th>1</th>\n",
       "      <td>0</td>\n",
       "      <td>0</td>\n",
       "    </tr>\n",
       "    <tr>\n",
       "      <th>2</th>\n",
       "      <td>0</td>\n",
       "      <td>0</td>\n",
       "    </tr>\n",
       "    <tr>\n",
       "      <th>3</th>\n",
       "      <td>1</td>\n",
       "      <td>1</td>\n",
       "    </tr>\n",
       "    <tr>\n",
       "      <th>4</th>\n",
       "      <td>0</td>\n",
       "      <td>0</td>\n",
       "    </tr>\n",
       "    <tr>\n",
       "      <th>5</th>\n",
       "      <td>0</td>\n",
       "      <td>0</td>\n",
       "    </tr>\n",
       "    <tr>\n",
       "      <th>6</th>\n",
       "      <td>0</td>\n",
       "      <td>0</td>\n",
       "    </tr>\n",
       "    <tr>\n",
       "      <th>7</th>\n",
       "      <td>1</td>\n",
       "      <td>1</td>\n",
       "    </tr>\n",
       "    <tr>\n",
       "      <th>8</th>\n",
       "      <td>1</td>\n",
       "      <td>1</td>\n",
       "    </tr>\n",
       "    <tr>\n",
       "      <th>9</th>\n",
       "      <td>0</td>\n",
       "      <td>0</td>\n",
       "    </tr>\n",
       "  </tbody>\n",
       "</table>\n",
       "</div>"
      ],
      "text/plain": [
       "   Actual  Predicted\n",
       "0       0          0\n",
       "1       0          0\n",
       "2       0          0\n",
       "3       1          1\n",
       "4       0          0\n",
       "5       0          0\n",
       "6       0          0\n",
       "7       1          1\n",
       "8       1          1\n",
       "9       0          0"
      ]
     },
     "execution_count": 31,
     "metadata": {},
     "output_type": "execute_result"
    }
   ],
   "source": [
    "# Prepare Submission Dataframe\n",
    "\n",
    "Submission = pd.DataFrame({'Actual':pd.Series(Y_test),'Predicted':pd.Series(Ypred_2)})\n",
    "Submission.head(10)"
   ]
  },
  {
   "cell_type": "markdown",
   "id": "2f1b5483",
   "metadata": {},
   "source": [
    "Which is:\n",
    "\n",
    "- Positive --> 1\n",
    "- Negative --> 0"
   ]
  },
  {
   "cell_type": "code",
   "execution_count": 32,
   "id": "f366aeac",
   "metadata": {},
   "outputs": [],
   "source": [
    "# Save Submission data as csv file\n",
    "\n",
    "Submission.to_csv('Submission.csv')"
   ]
  }
 ],
 "metadata": {
  "kernelspec": {
   "display_name": "Python 3 (ipykernel)",
   "language": "python",
   "name": "python3"
  },
  "language_info": {
   "codemirror_mode": {
    "name": "ipython",
    "version": 3
   },
   "file_extension": ".py",
   "mimetype": "text/x-python",
   "name": "python",
   "nbconvert_exporter": "python",
   "pygments_lexer": "ipython3",
   "version": "3.8.11"
  }
 },
 "nbformat": 4,
 "nbformat_minor": 5
}
